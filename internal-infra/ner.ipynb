{
 "cells": [
  {
   "cell_type": "markdown",
   "metadata": {},
   "source": [
    "# A comparison between several methods for NER\n",
    "\n",
    "## Methods to be compared:\n",
    "- NLTK\n",
    "- SpaCy\n",
    "- Flair\n",
    "- GPT 4o\n",
    "- Mistral\n",
    "- Llama 3"
   ]
  },
  {
   "cell_type": "code",
   "execution_count": 22,
   "metadata": {},
   "outputs": [],
   "source": [
    "sentence = \"\\n\\n\\n\\n\\n\\nLife-Saving First Aid Training Courses | Acute First Aid\\n\\n\\n\\n\\n\\n\\n\\n\\n\\n\\n\\n\\n\\n\\n\\n\\n\\n\\n\\n\\n\\n\\n\\n\\n\\n\\n\\n\\n\\n\\n\\n\\n\\n\\n\\n\\n\\n\\n\\n\\n\\n\\n\\n\\n\\n\\n\\n\\n\\n\\n\\n\\n\\n\\n\\n\\n\\n\\n\\n\\n\\n\\n\\n\\n\\n\\n\\n\\n\\n\\n\\n\\n\\n\\n\\n\\n\\n\\n\\n\\n\\n\\n\\n\\n\\n\\n\\n\\n\\n\\n\\n\\n\\n\\n\\n\\n\\n\\n\\n\\n\\n\\t\\tSkip to content\\n\\n\\n\\n\\n\\n\\n\\n\\n \\n \\n\\n\\n\\n\\nAcute \\n\\n\\n\\n\\n\\n\\n\\nCourses \\n\\n\\n\\n\\n\\n\\n\\n \\n\\n\\n\\n\\nE-Learning Courses \\n\\n\\n\\n Learn lifesaving skills at your own pace, with our interactive online E-Learning courses. \\n\\n\\n\\n\\n\\n\\n\\n\\n \\n\\n\\n\\n\\nWorkplace Courses \\n\\n\\n\\nKeep your workplace safe with our practical and informative classroom courses.\\u00a0 \\n\\n\\n\\n\\n\\n\\n\\n \\n\\n\\n\\nPublic Courses \\n\\n\\n\\nNot currently running, however we do offer in-house courses from 2 students upwards. \\n\\n\\n\\n\\n\\n\\n\\nCompany\\n\\nAbout\\nTestimonials\\nFAQ\\n\\n\\nContact Us\\nMy Account\\n\\nLog In\\nGroup Registration\\n\\n\\n \\n\\n\\n\\n \\n\\n\\n\\n\\n\\n No products in the basket.\\n\\n\\n\\n\\n\\n\\u00a30.00\\n\\n0\\n Basket\\n\\n\\n\\n\\n \\n\\n\\n\\n\\n\\n\\n\\n\\n\\n\\n\\n \\n \\n\\n\\n\\n\\nAcute \\n\\n\\n\\n\\n\\n\\n\\nCourses \\n\\n\\n\\n\\n\\n\\n\\n \\n\\n\\n\\n\\nE-Learning Courses \\n\\n\\n\\n Learn lifesaving skills at your own pace, with our interactive online E-Learning courses. \\n\\n\\n\\n\\n\\n\\n\\n\\n \\n\\n\\n\\n\\nWorkplace Courses \\n\\n\\n\\nKeep your workplace safe with our practical and informative classroom courses.\\u00a0 \\n\\n\\n\\n\\n\\n\\n\\n \\n\\n\\n\\nPublic Courses \\n\\n\\n\\nNot currently running, however we do offer in-house courses from 2 students upwards. \\n\\n\\n\\n\\n\\n\\n\\nCompany\\n\\nAbout\\nTestimonials\\nFAQ\\n\\n\\nContact Us\\nMy Account\\n\\nLog In\\nGroup Registration\\n\\n\\n \\n\\n\\n\\n \\n\\n\\n\\n\\n\\n No products in the basket.\\n\\n\\n\\n\\n\\n\\u00a30.00\\n\\n0\\n Basket\\n\\n\\n\\n\\n \\n\\n\\n\\n\\n\\n\\n\\n\\n\\n\\n\\n\\n\\n \\n\\n\\n\\n\\n\\n\\n \\n\\n\\n\\n\\n\\nLife-saving First Aid Training \\n\\n\\n\\nAcute First Aid provides affordable, practical training for thousands of people across the South East. Offering Online E-Learning, classroom courses, or a combination of the two; we\\u2019ve got you covered. \\n\\n\\n\\n\\n\\n\\n\\n \\nRead more\\n\\n\\n\\n\\n\\n\\n\\n\\n\\n\\n\\n \\n\\n\\n\\n\\n\\n\\n\\n\\n\\n\\n \\n\\n\\n\\n \\n\\n\\n\\n \\n\\n\\n\\n \\n\\n\\n\\n \\n\\n\\n\\n \\n\\n\\n\\n \\n\\n\\n\\n \\n\\n\\n\\n\\n\\n\\n\\n\\n\\n\\n \\n\\n\\n\\n\\n\\n\\n\\nOur Company \\n\\n\\n\\nAcute First Aid \\n\\n\\n\\n\\n\\n \\n\\n\\n\\n\\n\\nExperience \\n\\n\\n\\nAcute First Aid is led by Ruth Croucher; a highly accomplished trainer, who has over 35 years of experience in first aid training. \\n\\n\\n\\n\\n\\n \\n\\n\\n\\n\\n\\nTraining Courses \\n\\n\\n\\nOffering courses that meet the First Aid at Work Regulations and Ofsted approval, we accommodate all your training needs.\\u00a0 \\n\\n\\n\\n\\n\\n \\n\\n\\n\\n\\n\\nFAIB Approved \\n\\n\\n\\nThe First Aid Industry Body Approval and Monitoring Systems guarantees our consistency and high standards. Our approval Number: FAIB 73/07(372). \\n\\n\\n\\n\\n\\n\\n\\n\\n\\n\\n\\n\\n\\n\\n\\nPrepare your workplace for every situation. \\n\\n\\n\\nLife is unpredictable. You never know what is around the corner. Our invaluable courses will give you all the skills and knowledge you need to keep your workplace safe.\\u00a0There are plenty of courses to choose from, and we are on hand to advise you if you are unsure which course you need.\\u00a0 \\n\\n\\n\\n\\n\\n\\n\\n\\n \\nView All Courses\\n\\n\\n\\n\\n\\n\\n\\n\\n\\n\\n\\n \\nMake a Booking\\n\\n\\n\\n\\n\\n\\n\\n\\n\\n\\n\\n \\nGet a Free Quote\\n\\n\\n\\n\\n\\n\\n\\n\\n\\n\\n\\n\\n\\n\\n\\n\\n\\nFirst Aid E-Learning at your fingertips. \\n\\n\\n\\nLearn at your own pace with our engaging, interactive E-Learning courses. You can conveniently complete the course on any device you choose, and at a time that suits you. \\n\\n\\n\\n\\n\\n\\n\\n \\nBrowse E-Learning\\n\\n\\n\\n\\n\\n\\n\\n\\n\\n\\n\\n \\n\\n\\n\\n\\n\\n\\n\\n\\n\\n\\n\\n\\n\\n\\nDiscover more: \\n\\n\\n\\n\\n\\n\\n\\n\\n\\n \\n\\n\\n\\n\\n\\nFAQ's \\n\\n\\n\\nLet us answer your questions. \\n\\n\\n\\n\\n\\n\\n\\n \\nView\\n\\n\\n\\n\\n\\n\\n\\n\\n\\n\\n\\n\\n\\n \\n\\n\\n\\n\\n\\nFAIB \\n\\n\\n\\nApproval No. 73/07.372 \\n\\n\\n\\n\\n\\n\\n\\n \\nFAIB Website\\n\\n\\n\\n\\n\\n\\n\\n\\n\\n\\n\\n\\n\\n \\n\\n\\n\\n\\n\\nTestimonials \\n\\n\\n\\nDon\\u2019t just take our word for it. \\n\\n\\n\\n\\n\\n\\n\\n \\nView\\n\\n\\n\\n\\n\\n\\n\\n\\n\\n\\n\\n\\n\\n \\n\\n\\n\\n\\n\\nContact Us \\n\\n\\n\\nWe\\u2019d love to hear from you! \\n\\n\\n\\n\\n\\n\\n\\n \\nGet in Touch\\n\\n\\n\\n\\n\\n\\n\\n\\n\\n\\n\\n\\n\\n\\n\\n\\n\\nFollow us on Instagram \\n\\n\\n\\n\\n June is National Safety Month! \\u2060 \\u2060 Equip your team with essential skills through our practical workplace first aid courses, and rest easy knowing your workplace is prepared.\\u2060 \\u2060 Contact us today for a FREE, no-obligation consultation, and we'll g\\u2026 Level Up With Mental Health First Aid \\u2060 \\u2060 Send us a message for more information about becoming a Mental Health First Aider and take the first step to making a difference! \\u2060 \\u2060 #FirstAid #FirstAidTraining #MentalHealthFirstAid #MentalHealth #Stress\\u2026 We're delighted to share this wonderful testimonial \\u2060 \\u2060 Take a look at our Google reviews for more student feedback - we're rated 5 stars! \\u2060 \\u2060 Ready to find your perfect first aid course? Click the link in our bio or send us a message today!\\u2060 \\u2060 #\\u2026Fact of the day \\u2060 \\u2060 Unconsciousness can be caused by a number of things, from medical conditions to accidents. \\u2060 \\u2060 Discover how to deal with an unconscious casualty by taking one of our invaluable e-learning courses today! \\u2060 \\u2060 #FirstAid #FirstAidTra\\u2026Pain together with swelling and bruising, alongside a history of overstretching the affected area, can often be a sprain or a strain. \\u2060 \\u2060 If in doubt, treat this kind of injury as a fracture and get it checked out by a medical professional.\\u2060 \\u2060 With o\\u2026Happy World Health Day! \\u2060 \\u2060 Having up-to-date first aid skills can make all the difference in an emergency situation. \\u2060 \\u2060 Take a look at our selection of first aid training courses and book yours today! https://acute-firstaid.co.uk/ \\u2060 \\u2060 #WorldHealth\\u2026Every workplace should have trained first aiders.\\u2060 \\u2060 Get in touch today for a free, no-obligation consultation and take the next step towards a safer workplace \\u2060 \\u2060 Click the link in our bio to explore our practical workplace courses!\\u2060 \\u2060 #firstaid #f\\u2026Happy National Random Acts of Kindness Day!  To celebrate, we're giving away a FREE CPR & AED E-LEARNING COURSE to the first 5 people who use our exclusive discount code on our website! \\u2060 \\u2060 Simply copy the link below, add the course to your basket,\\u2026\\n \\n\\n\\n\\n\\n\\n\\n\\n\\n\\n\\n\\n \\n\\n\\n\\n\\n\\nSubscribe to our newsletter \\n\\n\\n\\nDon't miss new updates on your email! \\n\\n\\n\\n \\n\\n\\n\\n\\n\\n\\n\\n\\t\\t\\t\\t\\t\\t\\t\\tEmail\\t\\t\\t\\t\\t\\t\\t\\n\\n\\n\\n\\n\\n\\n\\nSubscribe\\n\\n\\n\\n\\n\\n\\n\\n\\n\\n\\n\\n\\n\\n\\n\\n\\n \\n\\n\\n\\n\\n\\n\\n\\n\\n\\n\\n\\n\\nCompany \\n\\n\\n\\n \\n\\n\\nAbout Us\\n\\n\\n\\n\\nTestimonials\\n\\n\\n\\n\\nFAQ's\\n\\n\\n\\n\\nFAIB Approval\\n\\n\\n\\n\\nContact Us\\n\\n\\n\\n\\n\\n\\n\\n\\n\\n\\n\\nCourses \\n\\n\\n\\n\\n\\n\\nE-Learning Courses\\n\\n\\n\\n\\nWorkplace Courses\\n\\n\\n\\nPublic Courses\\n\\n\\n\\nBook a Course\\n\\n\\n\\n\\nGet a Quote\\n\\n\\n\\n\\n\\n\\n\\n\\n\\n\\n\\nUseful Links \\n\\n\\n\\n\\n\\nLegal Requirements\\n\\n\\nSite Map\\n\\n\\nResources\\n\\n\\n\\n\\n\\n\\n\\n\\n\\n\\nGET IN TOUCH \\n\\n\\n\\n\\n\\n\\n\\n \\nenquiries@acute-firstaid.co.uk\\n\\n\\n\\n\\n\\n \\n(01483) 852996\\n\\n\\n\\n\\n \\nMon - Fri: 9:00-18:00, Sat 9:00-12:30\\n\\n\\n\\n\\n\\n\\n \\n\\n\\n\\n\\n\\n\\n\\n\\n\\n\\n \\n\\n\\n\\n\\n \\n\\n\\n\\n\\n \\n\\n\\n\\n\\n \\n\\n\\n\\n\\n\\n\\n\\n\\n\\n\\n\\n\\n\\n\\n \\n\\n\\n\\n\\n \\n\\n\\n\\n\\n \\n\\n\\n\\n\\n \\n\\n\\n\\n\\n\\n\\n\\n \\n\\n\\nFacebook-f\\n \\n\\n\\n\\nInstagram\\n \\n\\n\\n\\nYoutube\\n \\n\\n\\n\\nGoogle\\n \\n\\n\\n\\n\\n\\n\\n\\u00a9 Acute First Aid 2024. All rights reserved \\n\\n\\n\\n\\n\\n\\n\\n\\nScroll to Top\\n\\n   \\n\\n\\n\\n\\n\\n\\n\\n\\n\\n\\n\\n\\n\\n\\n\\n\\n\\n\\n\\n\\n\\n\\n\\n\\n\\n\\n\\n\\n\\n\\n\\n\\n\\n\\n\\n\\n\\n\\n\\n\\n\\n\\n\\n\\n\\n\\n\\n\\n\\n\\n\\n\\n\\n\\n\\n\\n\\n\\n\\n\\nWe use cookies to ensure that we give you the best experience on our website. If you continue to use this site we will assume that you are happy with it.Ok\\n\\n\\n\""
   ]
  },
  {
   "cell_type": "markdown",
   "metadata": {},
   "source": [
    "## 1. NLTK"
   ]
  },
  {
   "cell_type": "code",
   "execution_count": 10,
   "metadata": {},
   "outputs": [
    {
     "name": "stdout",
     "output_type": "stream",
     "text": [
      "--- NLTK ---\n",
      "(S\n",
      "  (GPE Apple/NNP)\n",
      "  is/VBZ\n",
      "  looking/VBG\n",
      "  at/IN\n",
      "  buying/VBG\n",
      "  U.K./NNP\n",
      "  startup/NN\n",
      "  for/IN\n",
      "  $/$\n",
      "  1/CD\n",
      "  billion/CD)\n"
     ]
    },
    {
     "name": "stderr",
     "output_type": "stream",
     "text": [
      "[nltk_data] Downloading package maxent_ne_chunker to\n",
      "[nltk_data]     /home/felinejtd/nltk_data...\n",
      "[nltk_data]   Package maxent_ne_chunker is already up-to-date!\n",
      "[nltk_data] Downloading package maxent_ne_chunker_tab to\n",
      "[nltk_data]     /home/felinejtd/nltk_data...\n",
      "[nltk_data]   Package maxent_ne_chunker_tab is already up-to-date!\n",
      "[nltk_data] Downloading package averaged_perceptron_tagger_eng to\n",
      "[nltk_data]     /home/felinejtd/nltk_data...\n",
      "[nltk_data]   Package averaged_perceptron_tagger_eng is already up-to-\n",
      "[nltk_data]       date!\n",
      "[nltk_data] Downloading package words to /home/felinejtd/nltk_data...\n",
      "[nltk_data]   Package words is already up-to-date!\n"
     ]
    }
   ],
   "source": [
    "# Method 1: Using NLTK\n",
    "import nltk\n",
    "from nltk.tokenize import word_tokenize\n",
    "from nltk.tag import pos_tag\n",
    "from nltk.chunk import ne_chunk\n",
    "\n",
    "nltk.download('maxent_ne_chunker')\n",
    "nltk.download('maxent_ne_chunker_tab')\n",
    "nltk.download('averaged_perceptron_tagger_eng')\n",
    "nltk.download('words')\n",
    "\n",
    "nltk_entities = ne_chunk(pos_tag(word_tokenize(sentence)))\n",
    "print(\"--- NLTK ---\")\n",
    "print(nltk_entities)"
   ]
  },
  {
   "cell_type": "markdown",
   "metadata": {},
   "source": [
    "# 2. SpaCy Small"
   ]
  },
  {
   "cell_type": "code",
   "execution_count": 23,
   "metadata": {},
   "outputs": [
    {
     "name": "stdout",
     "output_type": "stream",
     "text": [
      "--- SPACY ---\n",
      "[('Life-Saving First Aid Training Courses', 'ORG'), ('Acute First Aid\\n\\n\\n\\n\\n\\n\\n\\n\\n\\n\\n\\n\\n\\n\\n\\n\\n\\n\\n\\n\\n\\n\\n\\n\\n\\n\\n\\n\\n\\n\\n\\n\\n\\n\\n\\n\\n\\n\\n\\n\\n\\n\\n\\n\\n\\n\\n\\n\\n\\n\\n\\n\\n\\n\\n\\n\\n\\n\\n\\n\\n\\n\\n\\n\\n\\n\\n\\n\\n\\n\\n\\n\\n\\n\\n\\n\\n\\n\\n\\n\\n\\n\\n\\n\\n\\n\\n\\n\\n\\n\\n\\n\\n\\n\\n\\n\\n\\n\\n\\n\\n\\n\\t\\tSkip', 'ORG'), ('Acute', 'ORG'), ('E-Learning Courses \\n\\n\\n\\n ', 'ORG'), ('Learn', 'PRODUCT'), ('Keep', 'PERSON'), ('2', 'CARDINAL'), ('FAQ', 'ORG'), ('Group Registration', 'ORG'), ('0.00', 'MONEY'), ('E-Learning Courses \\n\\n\\n\\n ', 'ORG'), ('Learn', 'PRODUCT'), ('Keep', 'PERSON'), ('2', 'CARDINAL'), ('FAQ', 'ORG'), ('Group Registration', 'ORG'), ('0.00', 'MONEY'), ('First Aid Training', 'ORG'), ('thousands', 'CARDINAL'), ('the South East', 'LOC'), ('two', 'CARDINAL'), ('Ruth Croucher', 'PERSON'), ('35 years', 'DATE'), ('first', 'ORDINAL'), ('the First Aid at Work Regulations and Ofsted', 'LAW'), ('The First Aid Industry Body Approval', 'ORG'), ('Monitoring Systems', 'ORG'), ('View All Courses', 'WORK_OF_ART'), ('Learn', 'WORK_OF_ART'), ('FAQ', 'ORG'), ('FAIB Website', 'ORG'), ('Us', 'GPE'), ('Instagram \\n\\n\\n\\n\\n June', 'FAC'), ('National Safety Month', 'ORG'), ('Equip', 'GPE'), ('first', 'ORDINAL'), ('us', 'GPE'), ('today', 'DATE'), ('first', 'ORDINAL'), ('#FirstAid #', 'MONEY'), ('Google', 'ORG'), ('5', 'CARDINAL'), ('first', 'ORDINAL'), ('today', 'DATE'), ('#FirstAid #', 'MONEY'), ('World Health Day', 'EVENT'), ('first', 'ORDINAL'), ('first', 'ORDINAL'), ('today', 'DATE'), ('first', 'ORDINAL'), ('today', 'DATE'), ('#', 'CARDINAL'), ('first', 'ORDINAL'), ('5', 'CARDINAL'), ('Subscribe', 'ORG'), ('Us', 'GPE'), ('FAQ', 'ORG'), ('FAIB Approval\\n\\n\\n\\n\\nContact Us\\n\\n\\n\\n\\n\\n\\n\\n\\n\\n\\n\\nCourses', 'ORG'), ('E-Learning Courses', 'ORG'), ('Useful Links \\n\\n\\n\\n\\n\\nLegal Requirements\\n\\n\\nSite Map\\n\\n\\nResources', 'ORG'), ('852996', 'DATE'), ('9:00-18:00', 'TIME'), ('9:00-12:30', 'DATE'), ('Google\\n \\n\\n\\n\\n\\n\\n\\n', 'ORG'), ('2024', 'DATE')]\n",
      "Counter({'ORG': 22, 'DATE': 8, 'ORDINAL': 8, 'CARDINAL': 7, 'MONEY': 4, 'GPE': 4, 'PERSON': 3, 'PRODUCT': 2, 'WORK_OF_ART': 2, 'LOC': 1, 'LAW': 1, 'FAC': 1, 'EVENT': 1, 'TIME': 1})\n"
     ]
    }
   ],
   "source": [
    "# Method 2: Using spaCy small model (less accurate)\n",
    "# DATE - absolute or relative dates or periods\n",
    "# PERSON - People, including fictional\n",
    "# GPE - Countries, cities, states\n",
    "# LOC - Non-GPE locations, mountain ranges, bodies of water\n",
    "# MONEY - Monetary values, including unit\n",
    "# TIME - Times smaller than a day\n",
    "# PRODUCT - Objects, vehicles, foods, etc. (not services)\n",
    "# CARDINAL - Numerals that do not fall under another type\n",
    "# ORDINAL - \"first\", \"second\", etc.\n",
    "# QUANTITY - Measurements, as of weight or distance\n",
    "# EVENT - Named hurricanes, battles, wars, sports events, etc.\n",
    "# FAC - Buildings, airports, highways, bridges, etc.\n",
    "# LANGUAGE - Any named language\n",
    "# LAW - Named documents made into laws.\n",
    "# NORP - Nationalities or religious or political groups\n",
    "# PERCENT - Percentage, including \"%\"\n",
    "# WORK_OF_ART - Titles of books, songs, etc.\n",
    "import spacy\n",
    "from collections import Counter\n",
    "\n",
    "nlp = spacy.load(\"en_core_web_sm\")\n",
    "\n",
    "doc = nlp(sentence)\n",
    "\n",
    "print(\"--- SPACY ---\")\n",
    "spacy_small_entities = doc.ents\n",
    "print([(X.text, X.label_) for X in doc.ents])\n",
    "print(Counter([X.label_ for X in doc.ents]))"
   ]
  },
  {
   "cell_type": "markdown",
   "metadata": {},
   "source": [
    "# 3. SpaCy Large Model"
   ]
  },
  {
   "cell_type": "code",
   "execution_count": 12,
   "metadata": {},
   "outputs": [
    {
     "name": "stdout",
     "output_type": "stream",
     "text": [
      "--- SPACY ---\n",
      "[('Apple', 'ORG'), ('U.K.', 'GPE'), ('$1 billion', 'MONEY')]\n",
      "Counter({'ORG': 1, 'GPE': 1, 'MONEY': 1})\n"
     ]
    }
   ],
   "source": [
    "\n",
    "# Method 3: Using spaCy large model (more accurate)\n",
    "import spacy\n",
    "from collections import Counter\n",
    "\n",
    "nlp = spacy.load(\"en_core_web_trf\")\n",
    "\n",
    "doc = nlp(sentence)\n",
    "\n",
    "print(\"--- SPACY ---\")\n",
    "spacy_transformer_entities = doc.ents\n",
    "print([(X.text, X.label_) for X in doc.ents])\n",
    "print(Counter([X.label_ for X in doc.ents]))"
   ]
  },
  {
   "cell_type": "markdown",
   "metadata": {},
   "source": [
    "# 4. Flair"
   ]
  },
  {
   "cell_type": "code",
   "execution_count": 14,
   "metadata": {},
   "outputs": [
    {
     "name": "stdout",
     "output_type": "stream",
     "text": [
      "2024-09-16 18:55:26,850 SequenceTagger predicts: Dictionary with 20 tags: <unk>, O, S-ORG, S-MISC, B-PER, E-PER, S-LOC, B-ORG, E-ORG, I-PER, S-PER, B-MISC, I-MISC, E-MISC, I-ORG, B-LOC, E-LOC, I-LOC, <START>, <STOP>\n",
      "--- FLAIR ---\n",
      "[Span[0:1]: \"Apple\" → ORG (0.9988), Span[5:6]: \"U.K.\" → LOC (0.9971)]\n"
     ]
    }
   ],
   "source": [
    "# Method 4: Using Flair\n",
    "from flair.data import Sentence\n",
    "from flair.models import SequenceTagger\n",
    "\n",
    "tagger = SequenceTagger.load('ner')\n",
    "\n",
    "flair_sentence = Sentence(sentence)\n",
    "\n",
    "tagger.predict(flair_sentence)\n",
    "\n",
    "print(\"--- FLAIR ---\")\n",
    "flair_entities = flair_sentence.get_spans('ner')\n",
    "print(flair_entities)"
   ]
  },
  {
   "cell_type": "markdown",
   "metadata": {},
   "source": [
    "# 5. GPT 4o"
   ]
  },
  {
   "cell_type": "code",
   "execution_count": 24,
   "metadata": {},
   "outputs": [
    {
     "name": "stdout",
     "output_type": "stream",
     "text": [
      "--- GPT-4o MINI ---\n",
      "{\n",
      "    \"CARDINAL\": [\"2\"],\n",
      "    \"DATE\": [\"June\"],\n",
      "    \"EVENT\": [\"National Safety Month\", \"World Health Day\", \"National Random Acts of Kindness Day\"],\n",
      "    \"FAC\": [],\n",
      "    \"GPE\": [\"South East\"],\n",
      "    \"LANGUAGE\": [],\n",
      "    \"LAW\": [\"First Aid at Work Regulations\"],\n",
      "    \"LOC\": [],\n",
      "    \"MONEY\": [\"£0.00\"],\n",
      "    \"NORP\": [],\n",
      "    \"ORDINAL\": [\"35\"],\n",
      "    \"ORG\": [\"Acute First Aid\", \"FAIB\"],\n",
      "    \"PERCENT\": [],\n",
      "    \"PERSON\": [\"Ruth Croucher\"],\n",
      "    \"PRODUCT\": [\"CPR & AED E-LEARNING COURSE\"],\n",
      "    \"QUANTITY\": [],\n",
      "    \"TIME\": [\"9:00-18:00\", \"9:00-12:30\"],\n",
      "    \"WORK_OF_ART\": []\n",
      "}\n"
     ]
    }
   ],
   "source": [
    "# Method 5: Using GPT-4o\n",
    "from openai import OpenAI\n",
    "import json\n",
    "from dotenv import load_dotenv\n",
    "load_dotenv()\n",
    "\n",
    "def generate_prompt(labels, text):\n",
    "    prompt = \"\"\"\n",
    "    Extract the entities for the following labels from the given text and provide the results in JSON format.\n",
    "    - Entities must be extracted exactly as mentioned in the text.\n",
    "    - Return each entity under its label without creating new labels.\n",
    "    - Provide a list of entities for each label, ensuring that if no entities are found for a label, an empty list is returned.\n",
    "    - Accuracy and relevance in your responses are key.\n",
    "\n",
    "    labels:\"\"\"\n",
    "\n",
    "    for label in labels:\n",
    "        prompt += f\"\\n- {label}\"\n",
    "\n",
    "\n",
    "    prompt += \"\"\"\n",
    "    JSON Structure:\n",
    "    {\n",
    "    \"\"\"\n",
    "\n",
    "    for label in labels:\n",
    "        prompt += f'\"{label}\": [],\\n'\n",
    "\n",
    "    prompt += \"}\\n\\n\"\n",
    "    prompt +=\"\\n\\nTEXT: \"\n",
    "    prompt += text\n",
    "\n",
    "    return prompt\n",
    "\n",
    "# DATE - absolute or relative dates or periods\n",
    "# PERSON - People, including fictional\n",
    "# GPE - Countries, cities, states\n",
    "# LOC - Non-GPE locations, mountain ranges, bodies of water\n",
    "# MONEY - Monetary values, including unit\n",
    "# TIME - Times smaller than a day\n",
    "# PRODUCT - Objects, vehicles, foods, etc. (not services)\n",
    "# CARDINAL - Numerals that do not fall under another type\n",
    "# ORDINAL - \"first\", \"second\", etc.\n",
    "# QUANTITY - Measurements, as of weight or distance\n",
    "# EVENT - Named hurricanes, battles, wars, sports events, etc.\n",
    "# FAC - Buildings, airports, highways, bridges, etc.\n",
    "# LANGUAGE - Any named language\n",
    "# LAW - Named documents made into laws.\n",
    "# NORP - Nationalities or religious or political groups\n",
    "# PERCENT - Percentage, including \"%\"\n",
    "# WORK_OF_ART - Titles of books, songs, etc.\n",
    "\n",
    "# \n",
    "labels = [\"CARDINAL\", \"DATE\", \"EVENT\", \"FAC\", \"GPE\", \"LANGUAGE\", \"LAW\", \"LOC\", \"MONEY\", \"NORP\", \"ORDINAL\", \"ORG\", \"PERCENT\", \"PERSON\", \"PRODUCT\", \"QUANTITY\", \"TIME\", \"WORK_OF_ART\"]\n",
    "\n",
    "def gpt_ner(prompt):\n",
    "    MODEL=\"gpt-4o-mini\"\n",
    "    client = OpenAI()\n",
    "\n",
    "    completion = client.chat.completions.create(\n",
    "        model=MODEL,\n",
    "        messages=[\n",
    "            {\"role\": \"system\", \"content\": \"Supreme Entity Recognition Expert\"},\n",
    "            {\"role\": \"user\", \"content\": prompt}\n",
    "        ],\n",
    "          response_format={\n",
    "            \"type\": \"json_object\"\n",
    "        }\n",
    "    )\n",
    "    return completion.choices[0].message.content\n",
    "    \n",
    "gpt_entities = gpt_ner(generate_prompt(labels, sentence))\n",
    "print(\"--- GPT-4o MINI ---\")\n",
    "print(gpt_entities)\n",
    "\n",
    "\n",
    "# # Ollama for LLaMA3 and Mixtral\n",
    "# import ollama\n",
    "# def ollama_ner(model, text):\n",
    "#     response = ollama.chat(model=OLLAMA_MODEL, messages=[\n",
    "#     {\n",
    "#     'role': 'user',\n",
    "#     'content': prompt ,\n",
    "#     },\n",
    "#     ])\n",
    "#   return response['message']['content']\n",
    "\n",
    "# # Sample Text\n",
    "# text = \"......\"\n",
    "\n",
    "# # Results\n",
    "# gpt_result = gpt_ner(text)\n",
    "# llama_result = ollama_ner('llama3', text)\n",
    "# mixtral_result = ollama_ner('mixtral', text)\n",
    "\n",
    "# print(\"GPT-4 Result:\", gpt_result)\n",
    "# print(\"LLaMA3 Result:\", llama_result)\n",
    "# print(\"Mixtral Result:\", mixtral_result)\n",
    "\n",
    "\n",
    "# Comparison\n"
   ]
  }
 ],
 "metadata": {
  "kernelspec": {
   "display_name": "Python 3",
   "language": "python",
   "name": "python3"
  },
  "language_info": {
   "codemirror_mode": {
    "name": "ipython",
    "version": 3
   },
   "file_extension": ".py",
   "mimetype": "text/x-python",
   "name": "python",
   "nbconvert_exporter": "python",
   "pygments_lexer": "ipython3",
   "version": "3.10.12"
  }
 },
 "nbformat": 4,
 "nbformat_minor": 2
}
