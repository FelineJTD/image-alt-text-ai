{
 "cells": [
  {
   "cell_type": "markdown",
   "metadata": {},
   "source": [
    "# Context Extractor AI\n",
    "This notebook contains AI model that is able to classify images into their roles (informative, decorative, functional, text, or complex). The model takes image and several text attributes as input and outputs a role."
   ]
  },
  {
   "cell_type": "markdown",
   "metadata": {},
   "source": [
    "## Load Data"
   ]
  },
  {
   "cell_type": "code",
   "execution_count": 1,
   "metadata": {},
   "outputs": [
    {
     "name": "stdout",
     "output_type": "stream",
     "text": [
      "Requirement already satisfied: pandas in /home/felinejtd/anaconda3/lib/python3.11/site-packages (2.2.2)\n",
      "Requirement already satisfied: ftfy in /home/felinejtd/anaconda3/lib/python3.11/site-packages (6.2.3)\n",
      "Requirement already satisfied: numpy>=1.23.2 in /home/felinejtd/anaconda3/lib/python3.11/site-packages (from pandas) (1.26.4)\n",
      "Requirement already satisfied: python-dateutil>=2.8.2 in /home/felinejtd/anaconda3/lib/python3.11/site-packages (from pandas) (2.8.2)\n",
      "Requirement already satisfied: pytz>=2020.1 in /home/felinejtd/anaconda3/lib/python3.11/site-packages (from pandas) (2023.3.post1)\n",
      "Requirement already satisfied: tzdata>=2022.7 in /home/felinejtd/anaconda3/lib/python3.11/site-packages (from pandas) (2023.3)\n",
      "Requirement already satisfied: wcwidth<0.3.0,>=0.2.12 in /home/felinejtd/anaconda3/lib/python3.11/site-packages (from ftfy) (0.2.13)\n",
      "Requirement already satisfied: six>=1.5 in /home/felinejtd/anaconda3/lib/python3.11/site-packages (from python-dateutil>=2.8.2->pandas) (1.16.0)\n",
      "Note: you may need to restart the kernel to use updated packages.\n"
     ]
    }
   ],
   "source": [
    "# Install dependencies\n",
    "%pip install pandas ftfy"
   ]
  },
  {
   "cell_type": "code",
   "execution_count": 63,
   "metadata": {},
   "outputs": [
    {
     "name": "stdout",
     "output_type": "stream",
     "text": [
      "{'src': 'https://s.w.org/images/core/emoji/15.0.3/svg/1f606.svg', 'file_name': 'ludacreative.com.au-image_4.jpg', 'doc_title': 'Website Design & Development Sunshine Coast | Luda Creative', 'doc_description': 'Blending innovative web design solutions and custom strategies elevated by a personable touch, making your brand the go-to in your industry.', 'alt': '😆', 'attrs': {'draggable': 'false', 'role': 'img', 'class': ['emoji'], 'alt': '😆', 'src': 'https://s.w.org/images/core/emoji/15.0.3/svg/1f606.svg'}, 'a_button_parent': 'None', 'previous_texts': [\"h3: Don't just take our word for it.\", 'p: A big ‘hell yes’ to me.', 'p: What’s that sound like?', 'p: Supported by a team of developers, website and graphic designers, SEO strategists and a valuable array of IT support, copywriters, photographers and videographers, you are in the best possible position to grow. your. business.', 'p: Offering direct access to creative director and CEO Kali Lovell at all times, Luda Creative is your go-to studio for straightforward, elevated and wildly impressive website transformations.'], 'previous_texts_cutoff_by_image_index': 0, 'next_texts': ['h3: Access our 5-star rated portfolio now', 'h4: Download Our Exclusive PDF Guide Now!', 'p: Blending innovative solutions and custom strategies elevated by a personable touch, Luda Creative offers an out of the box approach with an unwavering commitment to making your brand the go-to in your industry.', 'p: We create solutions that not only stand out, but thrive.'], 'next_texts_cutoff_by_image_index': 2}\n",
      "2491\n"
     ]
    }
   ],
   "source": [
    "import json\n",
    "import re\n",
    "json_path = \"../scraper/output-aut-en/output-en.json\"\n",
    "image_dir = \"../scraper/output-aut-en/images/\"\n",
    "\n",
    "try:\n",
    "    # Read the JSON file\n",
    "    with open(json_path, \"r\") as file:\n",
    "        dirty_data = file.read()\n",
    "        dirty_data = re.sub(r\"\\](\\[\\])*\\[\", \",\", dirty_data)\n",
    "        data = json.loads(dirty_data)\n",
    "\n",
    "    # Print the first entry in the JSON data\n",
    "    print(data[0])\n",
    "\n",
    "    # Print the number of entries in the JSON data\n",
    "    print(len(data))\n",
    "    \n",
    "except Exception as e:\n",
    "    print(str(e))"
   ]
  },
  {
   "cell_type": "code",
   "execution_count": 9,
   "metadata": {},
   "outputs": [
    {
     "name": "stdout",
     "output_type": "stream",
     "text": [
      "CUDA version: 11.5\n",
      "Looking in links: https://download.pytorch.org/whl/torch_stable.html\n",
      "Collecting torch==1.13.0+cu116\n",
      "  Using cached https://download.pytorch.org/whl/cu116/torch-1.13.0%2Bcu116-cp311-cp311-linux_x86_64.whl (1983.3 MB)\n",
      "\u001b[31mERROR: Ignored the following yanked versions: 0.1.6, 0.1.7, 0.1.8, 0.1.9, 0.2.0, 0.2.1, 0.2.2, 0.2.2.post2, 0.2.2.post3, 0.15.0\u001b[0m\u001b[31m\n",
      "\u001b[0m\u001b[31mERROR: Could not find a version that satisfies the requirement torchvision==0.14.0+cu116 (from versions: 0.1.6, 0.2.0, 0.15.0+cpu, 0.15.0+cu117, 0.15.0+cu118, 0.15.1, 0.15.1+cpu, 0.15.1+cu117, 0.15.1+cu118, 0.15.2, 0.15.2+cpu, 0.15.2+cu117, 0.15.2+cu118, 0.15.2+rocm5.3, 0.15.2+rocm5.4.2, 0.16.0, 0.16.0+cpu, 0.16.0+cu118, 0.16.0+cu121, 0.16.0+rocm5.5, 0.16.0+rocm5.6, 0.16.1, 0.16.1+cpu, 0.16.1+cu118, 0.16.1+cu121, 0.16.1+rocm5.5, 0.16.1+rocm5.6, 0.16.2, 0.16.2+cpu, 0.16.2+cu118, 0.16.2+cu121, 0.16.2+rocm5.5, 0.16.2+rocm5.6, 0.17.0, 0.17.0+cpu, 0.17.0+cu118, 0.17.0+cu121, 0.17.0+rocm5.6, 0.17.0+rocm5.7, 0.17.1, 0.17.1+cpu, 0.17.1+cu118, 0.17.1+cu121, 0.17.1+rocm5.6, 0.17.1+rocm5.7, 0.17.2, 0.17.2+cpu, 0.17.2+cu118, 0.17.2+cu121, 0.17.2+rocm5.6, 0.17.2+rocm5.7, 0.18.0, 0.18.0+cpu, 0.18.0+cu118, 0.18.0+cu121, 0.18.0+rocm5.7, 0.18.0+rocm6.0, 0.18.1, 0.18.1+cpu, 0.18.1+cu118, 0.18.1+cu121, 0.18.1+rocm5.7, 0.18.1+rocm6.0, 0.19.0, 0.19.1)\u001b[0m\u001b[31m\n",
      "\u001b[0m\u001b[31mERROR: No matching distribution found for torchvision==0.14.0+cu116\u001b[0m\u001b[31m\n",
      "\u001b[0mNote: you may need to restart the kernel to use updated packages.\n",
      "Torch version: 2.0.1+cu117\n"
     ]
    }
   ],
   "source": [
    "# installing some dependencies, CLIP was released in PyTorch\n",
    "import subprocess\n",
    "\n",
    "CUDA_version = [s for s in subprocess.check_output([\"nvcc\", \"--version\"]).decode(\"UTF-8\").split(\", \") if s.startswith(\"release\")][0].split(\" \")[-1]\n",
    "print(\"CUDA version:\", CUDA_version)\n",
    "\n",
    "# Updated to use a more recent version of PyTorch that supports newer CUDA versions\n",
    "if CUDA_version in [\"10.0\", \"10.1\"]:\n",
    "    torch_version_suffix = f\"+cu{CUDA_version.replace('.', '')}\"\n",
    "elif CUDA_version == \"10.2\":\n",
    "    torch_version_suffix = \"+cu102\"\n",
    "elif CUDA_version in [\"11.0\", \"11.1\", \"11.2\", \"11.3\"]:\n",
    "    torch_version_suffix = \"+cu113\"  # Assuming cu113 is compatible with CUDA 11.x versions\n",
    "else:\n",
    "    torch_version_suffix = \"+cu116\"  # Defaulting to a newer CUDA version if none of the above match\n",
    "\n",
    "# Updated PyTorch version to a more recent one that is likely to have the desired CUDA version available\n",
    "pytorch_version = \"1.13.0\"  # Example of a more recent version, adjust as needed\n",
    "\n",
    "torch_version_suffix = \"+cu116\"  # Your CUDA version suffix\n",
    "\n",
    "# Choose a compatible torchvision version\n",
    "torchvision_version = \"0.14.0\"  # Example compatible version, adjust based on compatibility\n",
    "\n",
    "%pip install torch=={pytorch_version}{torch_version_suffix} torchvision=={torchvision_version}{torch_version_suffix} -f https://download.pytorch.org/whl/torch_stable.html ftfy regex\n",
    "\n",
    "import numpy as np\n",
    "import torch\n",
    "\n",
    "print(\"Torch version:\", torch.__version__)"
   ]
  },
  {
   "cell_type": "code",
   "execution_count": 1,
   "metadata": {},
   "outputs": [
    {
     "name": "stdout",
     "output_type": "stream",
     "text": [
      "fatal: destination path 'CLIP' already exists and is not an empty directory.\n",
      "CLIP dir is: /home/felinejtd/projects/itb/ta/image-alt-text-ai/role_classifier/CLIP\n"
     ]
    }
   ],
   "source": [
    "# clone the CLIP repository\n",
    "!git clone https://github.com/openai/CLIP.git\n",
    "\n",
    "import sys\n",
    "from pathlib import Path\n",
    "\n",
    "try:\n",
    "    clip_dir = Path(\".\").absolute() / \"CLIP\"\n",
    "    sys.path.append(str(clip_dir))\n",
    "    print(f\"CLIP dir is: {clip_dir}\")\n",
    "except Exception as e:\n",
    "    print(e)\n",
    "\n",
    "import clip"
   ]
  },
  {
   "cell_type": "code",
   "execution_count": 3,
   "metadata": {},
   "outputs": [],
   "source": [
    "import torch\n",
    "from torchvision.transforms import Compose, Resize, CenterCrop, ToTensor, Normalize\n",
    "from PIL import Image\n",
    "import tqdm\n",
    "import os\n",
    "from packaging import version\n",
    "import torchvision\n",
    "import sklearn.preprocessing\n",
    "import warnings"
   ]
  },
  {
   "cell_type": "code",
   "execution_count": 4,
   "metadata": {},
   "outputs": [
    {
     "name": "stdout",
     "output_type": "stream",
     "text": [
      "Model dir: /home/felinejtd/.cache/clip\n"
     ]
    }
   ],
   "source": [
    "# Load pre-trained model\n",
    "device = \"cuda\" if torch.cuda.is_available() else \"cpu\"\n",
    "model, transform = clip.load(\"ViT-B/32\", device=device)\n",
    "model = model.eval()\n",
    "print(f\"Model dir: {os.path.expanduser('~/.cache/clip')}\")"
   ]
  },
  {
   "cell_type": "code",
   "execution_count": 66,
   "metadata": {},
   "outputs": [],
   "source": [
    "class CLIPCapDataset(torch.utils.data.Dataset):\n",
    "    def __init__(self, data):\n",
    "        self.data = data\n",
    "\n",
    "    def __getitem__(self, idx):\n",
    "        c_data = self.data[idx]\n",
    "        c_data = clip.tokenize(f\"On a website, this text: {c_data} is related to the image\", truncate=True).squeeze()\n",
    "        return {'caption': c_data}\n",
    "\n",
    "    def __len__(self):\n",
    "        return len(self.data)"
   ]
  },
  {
   "cell_type": "code",
   "execution_count": 67,
   "metadata": {},
   "outputs": [],
   "source": [
    "def extract_all_captions(captions, model, device, batch_size=256, num_workers=8):\n",
    "    data = torch.utils.data.DataLoader(\n",
    "        CLIPCapDataset(captions),\n",
    "        batch_size=batch_size, num_workers=num_workers, shuffle=False)\n",
    "    all_text_features = []\n",
    "    with torch.no_grad():\n",
    "        for b in tqdm.tqdm(data):\n",
    "            b = b['caption'].to(device)\n",
    "            all_text_features.append(model.encode_text(b).cpu().numpy())\n",
    "    all_text_features = np.vstack(all_text_features)\n",
    "    return all_text_features"
   ]
  },
  {
   "cell_type": "code",
   "execution_count": 69,
   "metadata": {},
   "outputs": [],
   "source": [
    "class CLIPImageDataset(torch.utils.data.Dataset):\n",
    "    def __init__(self, data):\n",
    "        self.data = data\n",
    "        # only 224x224 ViT-B/32 supported for now\n",
    "        self.preprocess = self._transform_test(224)\n",
    "\n",
    "    def _transform_test(self, n_px):\n",
    "        return Compose([\n",
    "            Resize(n_px, interpolation=Image.BICUBIC),\n",
    "            CenterCrop(n_px),\n",
    "            lambda image: image.convert(\"RGB\"),\n",
    "            ToTensor(),\n",
    "            Normalize((0.48145466, 0.4578275, 0.40821073), (0.26862954, 0.26130258, 0.27577711)),\n",
    "        ])\n",
    "\n",
    "    def __getitem__(self, idx):\n",
    "        c_data = self.data[idx]\n",
    "        image = Image.open(c_data)\n",
    "        image = self.preprocess(image)\n",
    "        return {'image':image}\n",
    "\n",
    "    def __len__(self):\n",
    "        return len(self.data)"
   ]
  },
  {
   "cell_type": "code",
   "execution_count": 70,
   "metadata": {},
   "outputs": [],
   "source": [
    "def extract_all_images(images, model, device, batch_size=64, num_workers=8):\n",
    "    data = torch.utils.data.DataLoader(\n",
    "        CLIPImageDataset(images),\n",
    "        batch_size=batch_size, num_workers=num_workers, shuffle=False)\n",
    "    all_image_features = []\n",
    "    with torch.no_grad():\n",
    "        for b in tqdm.tqdm(data):\n",
    "            b = b['image'].to(device)\n",
    "            if device == 'cuda':\n",
    "                b = b.to(torch.float16)\n",
    "            all_image_features.append(model.encode_image(b).cpu().numpy())\n",
    "    all_image_features = np.vstack(all_image_features)\n",
    "    return all_image_features"
   ]
  },
  {
   "cell_type": "code",
   "execution_count": 31,
   "metadata": {},
   "outputs": [],
   "source": [
    "def get_clip_score(model, images, candidates, device, w=2.5):\n",
    "    '''\n",
    "    get standard image-text clipscore.\n",
    "    images can either be:\n",
    "    - a list of strings specifying filepaths for images\n",
    "    - a precomputed, ordered matrix of image features\n",
    "    '''\n",
    "    if isinstance(images, list):\n",
    "        # need to extract image features\n",
    "        images = extract_all_images(images, model, device)\n",
    "\n",
    "    candidates = extract_all_captions(candidates, model, device)\n",
    "\n",
    "    #as of numpy 1.21, normalize doesn't work properly for float16\n",
    "    if version.parse(np.__version__) < version.parse('1.21'):\n",
    "        images = sklearn.preprocessing.normalize(images, axis=1)\n",
    "        candidates = sklearn.preprocessing.normalize(candidates, axis=1)\n",
    "    else:\n",
    "        warnings.warn(\n",
    "            'due to a numerical instability, new numpy normalization is slightly different than paper results. '\n",
    "            'to exactly replicate paper results, please use numpy version less than 1.21, e.g., 1.20.3.')\n",
    "        images = images / np.sqrt(np.sum(images**2, axis=1, keepdims=True))\n",
    "        candidates = candidates / np.sqrt(np.sum(candidates**2, axis=1, keepdims=True))\n",
    "\n",
    "    per = w*np.clip(np.sum(images * candidates, axis=1), 0, None)\n",
    "    return np.mean(per), per, candidates"
   ]
  },
  {
   "cell_type": "code",
   "execution_count": 43,
   "metadata": {},
   "outputs": [
    {
     "name": "stderr",
     "output_type": "stream",
     "text": [
      "100%|██████████| 1/1 [00:00<00:00,  3.87it/s]\n",
      "100%|██████████| 1/1 [00:00<00:00,  3.10it/s]"
     ]
    },
    {
     "name": "stdout",
     "output_type": "stream",
     "text": [
      "Score: 0.61767578125\n",
      "Per: [0.7056 0.559  0.557  0.5493 0.572  0.5073 0.696  0.794 ]\n",
      "Candidates: [[ 0.005287   0.00583   -0.01573   ... -0.0305    -0.0448     0.00497  ]\n",
      " [-0.00285    0.0235    -0.03009   ... -0.03546   -0.02142    0.0114   ]\n",
      " [ 0.01488    0.03375    0.004974  ... -0.0326    -0.00668   -0.02882  ]\n",
      " ...\n",
      " [-0.0219     0.0248    -0.002857  ... -0.04352    0.01775    0.01703  ]\n",
      " [ 0.0009255  0.003786  -0.03134   ... -0.006783  -0.04074   -0.00999  ]\n",
      " [ 0.00601    0.03983    0.011734  ...  0.007313  -0.04428   -0.03674  ]]\n"
     ]
    },
    {
     "name": "stderr",
     "output_type": "stream",
     "text": [
      "\n",
      "/tmp/ipykernel_252503/4027130149.py:19: UserWarning: due to a numerical instability, new numpy normalization is slightly different than paper results. to exactly replicate paper results, please use numpy version less than 1.21, e.g., 1.20.3.\n",
      "  warnings.warn(\n"
     ]
    }
   ],
   "source": [
    "# Test\n",
    "images=[\"./test_image/cat.jpg\"]\n",
    "candidates = [\"cat\", \"dog\", \"bird\", \"computer\", \"website\", \"evil\", \"cute cat\", \"orange cat\"]\n",
    "model = model.eval()\n",
    "score, per, candidates = get_clip_score(model, images, candidates, device)\n",
    "print(f\"Score: {score}\")\n",
    "print(f\"Per: {per}\")\n",
    "print(f\"Candidates: {candidates}\")"
   ]
  },
  {
   "cell_type": "markdown",
   "metadata": {},
   "source": [
    "# Prep Data"
   ]
  },
  {
   "cell_type": "code",
   "execution_count": 72,
   "metadata": {},
   "outputs": [],
   "source": [
    "# Shuffle the data\n",
    "import random\n",
    "random.shuffle(data)"
   ]
  },
  {
   "cell_type": "markdown",
   "metadata": {},
   "source": [
    "# Begin Eval"
   ]
  },
  {
   "cell_type": "code",
   "execution_count": 73,
   "metadata": {},
   "outputs": [
    {
     "name": "stderr",
     "output_type": "stream",
     "text": [
      "  0%|          | 0/1 [00:00<?, ?it/s]Exception in thread QueueFeederThread:\n",
      "Traceback (most recent call last):\n",
      "  File \"/home/felinejtd/anaconda3/lib/python3.11/multiprocessing/queues.py\", line 239, in _feed\n",
      "Exception in thread QueueFeederThread:\n",
      "Traceback (most recent call last):\n",
      "  File \"/home/felinejtd/anaconda3/lib/python3.11/multiprocessing/queues.py\", line 239, in _feed\n",
      "Exception in thread QueueFeederThread:\n",
      "Traceback (most recent call last):\n",
      "  File \"/home/felinejtd/anaconda3/lib/python3.11/multiprocessing/queues.py\", line 239, in _feed\n",
      "Exception in thread QueueFeederThread:\n",
      "Traceback (most recent call last):\n",
      "  File \"/home/felinejtd/anaconda3/lib/python3.11/multiprocessing/queues.py\", line 239, in _feed\n",
      "Exception in thread QueueFeederThread:\n",
      "Traceback (most recent call last):\n",
      "  File \"/home/felinejtd/anaconda3/lib/python3.11/multiprocessing/queues.py\", line 239, in _feed\n",
      "    reader_close()\n",
      "  File \"/home/felinejtd/anaconda3/lib/python3.11/multiprocessing/connection.py\", line 178, in close\n",
      "Exception in thread QueueFeederThread:\n",
      "Traceback (most recent call last):\n",
      "  File \"/home/felinejtd/anaconda3/lib/python3.11/multiprocessing/queues.py\", line 240, in _feed\n",
      "    reader_close()\n",
      "  File \"/home/felinejtd/anaconda3/lib/python3.11/multiprocessing/connection.py\", line 178, in close\n",
      "Exception in thread QueueFeederThread:\n",
      "Traceback (most recent call last):\n",
      "  File \"/home/felinejtd/anaconda3/lib/python3.11/multiprocessing/queues.py\", line 239, in _feed\n",
      "    reader_close()\n",
      "  File \"/home/felinejtd/anaconda3/lib/python3.11/multiprocessing/connection.py\", line 178, in close\n",
      "    reader_close()\n",
      "  File \"/home/felinejtd/anaconda3/lib/python3.11/multiprocessing/connection.py\", line 178, in close\n",
      "    self._close()\n",
      "  File \"/home/felinejtd/anaconda3/lib/python3.11/multiprocessing/connection.py\", line 377, in _close\n",
      "    reader_close()\n",
      "  File \"/home/felinejtd/anaconda3/lib/python3.11/multiprocessing/connection.py\", line 178, in close\n",
      "    writer_close()\n",
      "  File \"/home/felinejtd/anaconda3/lib/python3.11/multiprocessing/connection.py\", line 178, in close\n",
      "    self._close()\n",
      "  File \"/home/felinejtd/anaconda3/lib/python3.11/multiprocessing/connection.py\", line 377, in _close\n",
      "    _close(self._handle)\n",
      "OSError: [Errno 9] Bad file descriptor\n",
      "\n",
      "During handling of the above exception, another exception occurred:\n",
      "\n",
      "Traceback (most recent call last):\n",
      "  File \"/home/felinejtd/anaconda3/lib/python3.11/threading.py\", line 1045, in _bootstrap_inner\n",
      "    self._close()\n",
      "  File \"/home/felinejtd/anaconda3/lib/python3.11/multiprocessing/connection.py\", line 377, in _close\n",
      "    self._close()\n",
      "  File \"/home/felinejtd/anaconda3/lib/python3.11/multiprocessing/connection.py\", line 377, in _close\n",
      "    self._close()\n",
      "  File \"/home/felinejtd/anaconda3/lib/python3.11/multiprocessing/connection.py\", line 377, in _close\n",
      "    reader_close()\n",
      "  File \"/home/felinejtd/anaconda3/lib/python3.11/multiprocessing/connection.py\", line 178, in close\n",
      "    self.run()\n",
      "  File \"/home/felinejtd/anaconda3/lib/python3.11/threading.py\", line 982, in run\n",
      "    _close(self._handle)\n",
      "OSError: [Errno 9] Bad file descriptor\n",
      "\n",
      "During handling of the above exception, another exception occurred:\n",
      "\n",
      "Traceback (most recent call last):\n",
      "  File \"/home/felinejtd/anaconda3/lib/python3.11/threading.py\", line 1045, in _bootstrap_inner\n",
      "    _close(self._handle)\n",
      "OSError: [Errno 9] Bad file descriptor\n",
      "\n",
      "During handling of the above exception, another exception occurred:\n",
      "\n",
      "Traceback (most recent call last):\n",
      "  File \"/home/felinejtd/anaconda3/lib/python3.11/threading.py\", line 1045, in _bootstrap_inner\n",
      "    self._target(*self._args, **self._kwargs)\n",
      "  File \"/home/felinejtd/anaconda3/lib/python3.11/multiprocessing/queues.py\", line 271, in _feed\n",
      "    self._close()\n",
      "  File \"/home/felinejtd/anaconda3/lib/python3.11/multiprocessing/connection.py\", line 377, in _close\n",
      "    _close(self._handle)\n",
      "OSError: [Errno 9] Bad file descriptor\n",
      "\n",
      "During handling of the above exception, another exception occurred:\n",
      "\n",
      "Traceback (most recent call last):\n",
      "  File \"/home/felinejtd/anaconda3/lib/python3.11/threading.py\", line 1045, in _bootstrap_inner\n",
      "    _close(self._handle)\n",
      "OSError: [Errno 9] Bad file descriptor\n",
      "\n",
      "During handling of the above exception, another exception occurred:\n",
      "\n",
      "Traceback (most recent call last):\n",
      "  File \"/home/felinejtd/anaconda3/lib/python3.11/threading.py\", line 1045, in _bootstrap_inner\n",
      "    self.run()\n",
      "  File \"/home/felinejtd/anaconda3/lib/python3.11/threading.py\", line 982, in run\n",
      "    self.run()\n",
      "  File \"/home/felinejtd/anaconda3/lib/python3.11/threading.py\", line 982, in run\n",
      "    self.run()\n",
      "  File \"/home/felinejtd/anaconda3/lib/python3.11/threading.py\", line 982, in run\n",
      "    self._close()\n",
      "  File \"/home/felinejtd/anaconda3/lib/python3.11/multiprocessing/connection.py\", line 377, in _close\n",
      "    _close(self._handle)\n",
      "OSError: [Errno 9] Bad file descriptor\n",
      "\n",
      "During handling of the above exception, another exception occurred:\n",
      "\n",
      "Traceback (most recent call last):\n",
      "  File \"/home/felinejtd/anaconda3/lib/python3.11/threading.py\", line 1045, in _bootstrap_inner\n",
      "    self._target(*self._args, **self._kwargs)\n",
      "  File \"/home/felinejtd/anaconda3/lib/python3.11/multiprocessing/queues.py\", line 271, in _feed\n",
      "    _close(self._handle)\n",
      "OSError: [Errno 9] Bad file descriptor\n",
      "\n",
      "During handling of the above exception, another exception occurred:\n",
      "\n",
      "Traceback (most recent call last):\n",
      "  File \"/home/felinejtd/anaconda3/lib/python3.11/threading.py\", line 1045, in _bootstrap_inner\n",
      "    queue_sem.release()\n",
      "ValueError: semaphore or lock released too many times\n",
      "    self.run()\n",
      "  File \"/home/felinejtd/anaconda3/lib/python3.11/threading.py\", line 982, in run\n",
      "    self.run()\n",
      "  File \"/home/felinejtd/anaconda3/lib/python3.11/threading.py\", line 982, in run\n",
      "    self._target(*self._args, **self._kwargs)\n",
      "  File \"/home/felinejtd/anaconda3/lib/python3.11/multiprocessing/queues.py\", line 271, in _feed\n"
     ]
    },
    {
     "ename": "",
     "evalue": "",
     "output_type": "error",
     "traceback": [
      "\u001b[1;31mThe Kernel crashed while executing code in the current cell or a previous cell. \n",
      "\u001b[1;31mPlease review the code in the cell(s) to identify a possible cause of the failure. \n",
      "\u001b[1;31mClick <a href='https://aka.ms/vscodeJupyterKernelCrash'>here</a> for more info. \n",
      "\u001b[1;31mView Jupyter <a href='command:jupyter.viewOutput'>log</a> for further details."
     ]
    }
   ],
   "source": [
    "# CLIPScore evaluation\n",
    "from IPython.display import clear_output\n",
    "\n",
    "number_of_images = 1000\n",
    "threshold = 0.65\n",
    "\n",
    "init = {\"is_relevant\": 0, \"num_data\": 0}\n",
    "\n",
    "max_similarity = 0\n",
    "min_similarity = 1\n",
    "prev_text_evals = [init.copy() for _ in range(5)]\n",
    "next_text_evals = [init.copy() for _ in range(5)]\n",
    "all_similarities = []\n",
    "\n",
    "for image in data[0:number_of_images]:\n",
    "    try:\n",
    "        # Clear the output\n",
    "        clear_output()\n",
    "\n",
    "        image_path = [f\"{image_dir}{image['file_name']}\"]\n",
    "        class_captions = image[\"previous_texts\"] + image[\"next_texts\"]\n",
    "        \n",
    "        score, per, candidates = get_clip_score(model, image_path, class_captions, device)\n",
    "\n",
    "        # Save the results\n",
    "        for i, class_caption in enumerate(class_captions):\n",
    "            if per[i] > max_similarity:\n",
    "                max_similarity = per[i]\n",
    "            if per[i] < min_similarity:\n",
    "                min_similarity = per[i]\n",
    "            if per[i] > threshold:\n",
    "                if i < 5:\n",
    "                    prev_text_evals[i][\"is_relevant\"] += 1\n",
    "                else:\n",
    "                    next_text_evals[i - 5][\"is_relevant\"] += 1\n",
    "            all_similarities.append(per[i])\n",
    "            if i < 5:\n",
    "                prev_text_evals[i][\"num_data\"] += 1\n",
    "            else:\n",
    "                next_text_evals[i - 5][\"num_data\"] += 1\n",
    "\n",
    "    except Exception as e:\n",
    "        print(str(e))\n",
    "\n",
    "# Calculate the percentage\n",
    "for i in range(5):\n",
    "    prev_text_evals[i][\"is_relevant\"] = (prev_text_evals[i][\"is_relevant\"] / prev_text_evals[i][\"num_data\"]) * 100\n",
    "    next_text_evals[i][\"is_relevant\"] = (next_text_evals[i][\"is_relevant\"] / next_text_evals[i][\"num_data\"]) * 100\n",
    "\n",
    "print(\"Previous text evaluations:\")\n",
    "print(prev_text_evals)\n",
    "print(\"Next text evaluations:\")\n",
    "print(next_text_evals)"
   ]
  },
  {
   "cell_type": "code",
   "execution_count": 17,
   "metadata": {},
   "outputs": [
    {
     "name": "stderr",
     "output_type": "stream",
     "text": [
      "/home/felinejtd/anaconda3/lib/python3.11/site-packages/PIL/Image.py:981: UserWarning: Palette images with Transparency expressed in bytes should be converted to RGBA images\n",
      "  warnings.warn(\n"
     ]
    },
    {
     "name": "stdout",
     "output_type": "stream",
     "text": [
      "Prev:  tensor([[20.8588, 22.3433, 21.4239, 22.2851, 20.6156]])\n",
      "Next:  tensor([[20.2953, 21.9474, 19.1802, 21.1484, 19.9586]])\n",
      "Prev:  tensor([], size=(1, 0))\n",
      "Next:  tensor([[22.6514, 23.3032, 23.5850, 24.5370, 24.7190]])\n",
      "Prev:  tensor([[22.2969, 21.8405, 23.2572]])\n",
      "Next:  tensor([[23.3477, 24.8583]])\n",
      "Prev:  tensor([], size=(1, 0))\n",
      "Next:  tensor([[23.8488, 24.9880, 24.8607, 25.3858, 26.0285]])\n",
      "Prev:  tensor([[22.3813, 22.3813, 17.9139, 20.6354, 21.6803]])\n",
      "Next:  tensor([[30.4990, 30.4990, 26.2010, 26.2010, 19.4660]])\n",
      "Prev:  tensor([[27.9400, 27.9309, 20.0454, 21.8948, 26.9445]])\n",
      "Next:  tensor([[30.8561, 24.0930, 24.3390, 18.2692, 23.4173]])\n",
      "Prev:  tensor([], size=(1, 0))\n",
      "Input On a website, this text: p: PREDICT-Meso is funded for £5million across 6 years by the Accelerator Awards. The Accelerator Awards are funded through a partnership between Cancer Research UK (CRUK), Fondazione AIRC (AIRC) and Fundación Científica de la Asociacion Española Contra el Cáncer (FC AECC) and seeks to maximise impact through shared priorities. is related to the image is too long for context length 77\n",
      "Prev:  tensor([[21.3820, 20.6068, 23.9047, 23.5275, 20.2153]])\n",
      "Next:  tensor([[22.8966, 23.7611, 22.2452, 23.7611, 28.6768]])\n",
      "Prev:  tensor([[22.1658, 22.1658, 22.1658, 22.1658, 22.1658]])\n",
      "Next:  tensor([[23.3709, 17.3171, 22.3353]])\n",
      "Prev:  tensor([[21.2859, 22.4297]])\n",
      "Next:  tensor([[22.2545, 21.4267, 24.2622, 20.0704, 24.3232]])\n",
      "Previous text evaluations:\n",
      "[{'is_relevant': 14.285714285714285, 'num_data': 7}, {'is_relevant': 14.285714285714285, 'num_data': 7}, {'is_relevant': 0.0, 'num_data': 6}, {'is_relevant': 0.0, 'num_data': 5}, {'is_relevant': 20.0, 'num_data': 5}]\n",
      "Next text evaluations:\n",
      "[{'is_relevant': 22.22222222222222, 'num_data': 9}, {'is_relevant': 11.11111111111111, 'num_data': 9}, {'is_relevant': 12.5, 'num_data': 8}, {'is_relevant': 28.57142857142857, 'num_data': 7}, {'is_relevant': 28.57142857142857, 'num_data': 7}]\n"
     ]
    }
   ],
   "source": [
    "from PIL import Image\n",
    "\n",
    "\n",
    "number_of_images = 10\n",
    "threshold = 25\n",
    "\n",
    "init = {\"is_relevant\": 0, \"num_data\": 0}\n",
    "\n",
    "max_similarity = 0\n",
    "min_similarity = 100\n",
    "prev_text_evals = [init.copy() for _ in range(5)]\n",
    "next_text_evals = [init.copy() for _ in range(5)]\n",
    "all_similarities = []\n",
    " \n",
    "\n",
    "for image in data[0:number_of_images]:\n",
    "    try:\n",
    "        class_captions = image[\"previous_texts\"]\n",
    "        # Cut all the captions to the same length\n",
    "        class_captions = [f\"On a website, this text: {caption} is related to the image\" for caption in class_captions]\n",
    "        text_input = clip.tokenize(class_captions).to(device)\n",
    "\n",
    "        with torch.no_grad():\n",
    "            text_features = model.encode_text(text_input).float()\n",
    "            text_features /= text_features.norm(dim=-1, keepdim=True)\n",
    "        \n",
    "        image_path = image[\"file_name\"]\n",
    "        # Load the image\n",
    "        image_input = transform(Image.open(image_dir + image_path)).unsqueeze(0).to(device)\n",
    "        # Encode the image\n",
    "        with torch.no_grad():\n",
    "            image_features = model.encode_image(image_input).float()\n",
    "            image_features /= image_features.norm(dim=-1, keepdim=True)\n",
    "\n",
    "        # Display the results\n",
    "        text_probs = (100.0 * image_features @ text_features.T)\n",
    "        text_probs = text_probs.cpu()\n",
    "        print(\"Prev: \", text_probs)\n",
    "\n",
    "        # Save the results\n",
    "        for i, class_caption in enumerate(class_captions):\n",
    "            if text_probs[0][i].item() > max_similarity:\n",
    "                max_similarity = text_probs[0][i].item()\n",
    "            if text_probs[0][i].item() < min_similarity:\n",
    "                min_similarity = text_probs[0][i].item()\n",
    "            if text_probs[0][i].item() > threshold:\n",
    "                prev_text_evals[i][\"is_relevant\"] += 1\n",
    "            all_similarities.append(text_probs[0][i].item())\n",
    "            prev_text_evals[i][\"num_data\"] += 1\n",
    "\n",
    "        # Next text\n",
    "        class_captions = image[\"next_texts\"]\n",
    "        # Cut all the captions to the same length\n",
    "        class_captions = [f\"On a website, this text: {caption} is related to the image\" for caption in class_captions]\n",
    "        text_input = clip.tokenize(class_captions).to(device)\n",
    "\n",
    "        with torch.no_grad():\n",
    "            text_features = model.encode_text(text_input).float()\n",
    "            text_features /= text_features.norm(dim=-1, keepdim=True)\n",
    "\n",
    "        # Display the results\n",
    "        text_probs = (100.0 * image_features @ text_features.T)\n",
    "        text_probs = text_probs.cpu()\n",
    "        print(\"Next: \", text_probs)\n",
    "\n",
    "        # Save the results\n",
    "        for i, class_caption in enumerate(class_captions):\n",
    "            if text_probs[0][i].item() > max_similarity:\n",
    "                max_similarity = text_probs[0][i].item()\n",
    "            if text_probs[0][i].item() < min_similarity:\n",
    "                min_similarity = text_probs[0][i].item()\n",
    "            if text_probs[0][i].item() > threshold:\n",
    "                next_text_evals[i][\"is_relevant\"] += 1\n",
    "            all_similarities.append(text_probs[0][i].item())\n",
    "            next_text_evals[i][\"num_data\"] += 1\n",
    "\n",
    "    except Exception as e:\n",
    "        print(str(e))\n",
    "\n",
    "# Calculate the percentage\n",
    "for i in range(5):\n",
    "    prev_text_evals[i][\"is_relevant\"] = (prev_text_evals[i][\"is_relevant\"] / prev_text_evals[i][\"num_data\"]) * 100\n",
    "    next_text_evals[i][\"is_relevant\"] = (next_text_evals[i][\"is_relevant\"] / next_text_evals[i][\"num_data\"]) * 100\n",
    "\n",
    "print(\"Previous text evaluations:\")\n",
    "print(prev_text_evals)\n",
    "print(\"Next text evaluations:\")\n",
    "print(next_text_evals)"
   ]
  },
  {
   "cell_type": "code",
   "execution_count": 17,
   "metadata": {},
   "outputs": [
    {
     "data": {
      "image/png": "[encoded data removed]",
      "text/plain": [
       "<Figure size 1000x600 with 1 Axes>"
      ]
     },
     "metadata": {},
     "output_type": "display_data"
    }
   ],
   "source": [
    "# Plot the results\n",
    "import matplotlib.pyplot as plt\n",
    "\n",
    "prev_text_evals = [{'is_relevant': 160, 'num_data': 832}, {'is_relevant': 123, 'num_data': 832}, {'is_relevant': 156, 'num_data': 806}, {'is_relevant': 124, 'num_data': 803}, {'is_relevant': 110, 'num_data': 803}]\n",
    "next_text_evals = [{'is_relevant': 186, 'num_data': 599}, {'is_relevant': 136, 'num_data': 584}, {'is_relevant': 117, 'num_data': 564}, {'is_relevant': 126, 'num_data': 544}, {'is_relevant': 102, 'num_data': 502}]\n",
    "\n",
    "\n",
    "for i in range(5):\n",
    "    prev_text_evals[i][\"is_relevant\"] = (prev_text_evals[i][\"is_relevant\"] / prev_text_evals[i][\"num_data\"]) * 100\n",
    "    next_text_evals[i][\"is_relevant\"] = (next_text_evals[i][\"is_relevant\"] / next_text_evals[i][\"num_data\"]) * 100\n",
    "\n",
    "prev_text_evals_to_plot = [x[\"is_relevant\"] for x in prev_text_evals]\n",
    "next_text_evals_to_plot = [x[\"is_relevant\"] for x in next_text_evals]\n",
    "\n",
    "plt.figure(figsize=(10, 6))\n",
    "plt.bar([f\"prev-text-{i+1}\" for i in range(5)], prev_text_evals_to_plot, label=\"Percentage of relevant texts\")\n",
    "plt.bar([f\"next-text-{i+1}\" for i in range(5)], next_text_evals_to_plot, label=\"Percentage of relevant texts\")\n",
    "plt.legend(loc=\"upper right\")\n",
    "\n",
    "# Tilt the x-axis labels\n",
    "plt.xticks(rotation=45)\n",
    "\n",
    "plt.show()\n"
   ]
  },
  {
   "cell_type": "code",
   "execution_count": 59,
   "metadata": {},
   "outputs": [
    {
     "name": "stdout",
     "output_type": "stream",
     "text": [
      "0.943\n",
      "0.3555\n"
     ]
    }
   ],
   "source": [
    "print(max_similarity)\n",
    "print(min_similarity)"
   ]
  },
  {
   "cell_type": "code",
   "execution_count": 60,
   "metadata": {},
   "outputs": [
    {
     "data": {
      "image/png": "[encoded data removed]",
      "text/plain": [
       "<Figure size 640x480 with 1 Axes>"
      ]
     },
     "metadata": {},
     "output_type": "display_data"
    }
   ],
   "source": [
    "# Plot all_similarities\n",
    "import matplotlib.pyplot as plt\n",
    "\n",
    "plt.hist(all_similarities, bins=50)\n",
    "plt.title(\"Similarity distribution\")\n",
    "plt.show()\n"
   ]
  }
 ],
 "metadata": {
  "kernelspec": {
   "display_name": "base",
   "language": "python",
   "name": "python3"
  },
  "language_info": {
   "codemirror_mode": {
    "name": "ipython",
    "version": 3
   },
   "file_extension": ".py",
   "mimetype": "text/x-python",
   "name": "python",
   "nbconvert_exporter": "python",
   "pygments_lexer": "ipython3",
   "version": "3.11.7"
  }
 },
 "nbformat": 4,
 "nbformat_minor": 2
}
