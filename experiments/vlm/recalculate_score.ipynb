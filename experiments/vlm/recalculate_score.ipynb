{
 "cells": [
  {
   "cell_type": "code",
   "execution_count": 1,
   "metadata": {},
   "outputs": [],
   "source": [
    "def calculate_scores(results):\n",
    "    scores = {\n",
    "        \"llama\": {\n",
    "            \"whole_accuracy\": 0,\n",
    "            \"precision\": {},\n",
    "            \"recall\": {},\n",
    "            \"f1\": {},\n",
    "        },\n",
    "        \"gpt-4o\": {\n",
    "            \"whole_accuracy\": 0,\n",
    "            \"precision\": {},\n",
    "            \"recall\": {},\n",
    "            \"f1\": {},\n",
    "        },\n",
    "        \"gpt-4o-mini\": {\n",
    "            \"whole_accuracy\": 0,\n",
    "            \"precision\": {},\n",
    "            \"recall\": {},\n",
    "            \"f1\": {},\n",
    "        },\n",
    "        \"qwen\": {\n",
    "            \"whole_accuracy\": 0,\n",
    "            \"precision\": {},\n",
    "            \"recall\": {},\n",
    "            \"f1\": {},\n",
    "        }\n",
    "    }\n",
    "\n",
    "    for model in results[\"details\"]:\n",
    "        # Whole accuracy\n",
    "        scores[model][\"whole_accuracy\"] = sum([results[\"details\"][model][role][\"true_positive\"] for role in results[\"details\"][model]]) / sum([results[\"details\"][model][role][\"true_positive\"] + results[\"details\"][model][role][\"false_positive\"] for role in results[\"details\"][model]]) if sum([results[\"details\"][model][role][\"true_positive\"] + results[\"details\"][model][role][\"false_positive\"] for role in results[\"details\"][model]]) > 0 else 0\n",
    "\n",
    "        # Accuracy, Precision, Recall, F1 for each role\n",
    "        for role in results[\"details\"][model]:\n",
    "            true_positive = results[\"details\"][model][role][\"true_positive\"]\n",
    "            false_positive = results[\"details\"][model][role][\"false_positive\"]\n",
    "            false_negative = results[\"details\"][model][role][\"false_negative\"]\n",
    "\n",
    "            scores[model][\"precision\"][role] = true_positive / (true_positive + false_positive) if true_positive + false_positive > 0 else 0\n",
    "            scores[model][\"recall\"][role] = true_positive / (true_positive + false_negative) if true_positive + false_negative > 0 else 0\n",
    "            scores[model][\"f1\"][role] = 2 * (scores[model][\"precision\"][role] * scores[model][\"recall\"][role]) / (scores[model][\"precision\"][role] + scores[model][\"recall\"][role]) if scores[model][\"precision\"][role] + scores[model][\"recall\"][role] > 0 else 0\n",
    "\n",
    "    return scores"
   ]
  },
  {
   "cell_type": "code",
   "execution_count": 6,
   "metadata": {},
   "outputs": [],
   "source": [
    "with open(\"output-few-shot-4o.json\", \"r\") as f:\n",
    "    results = eval(f.read())\n",
    "\n",
    "scores = calculate_scores(results[\"results\"])\n",
    "\n",
    "with open(\"output-fixed/scores-few-shot.json\", \"w\") as f:\n",
    "    f.write(str(scores))"
   ]
  }
 ],
 "metadata": {
  "kernelspec": {
   "display_name": "thesis",
   "language": "python",
   "name": "python3"
  },
  "language_info": {
   "codemirror_mode": {
    "name": "ipython",
    "version": 3
   },
   "file_extension": ".py",
   "mimetype": "text/x-python",
   "name": "python",
   "nbconvert_exporter": "python",
   "pygments_lexer": "ipython3",
   "version": "3.12.6"
  }
 },
 "nbformat": 4,
 "nbformat_minor": 2
}
