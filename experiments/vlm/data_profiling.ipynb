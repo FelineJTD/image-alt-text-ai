{
 "cells": [
  {
   "cell_type": "code",
   "execution_count": 3,
   "metadata": {},
   "outputs": [],
   "source": [
    "import json\n",
    "import os\n",
    "import random\n",
    "\n",
    "json_dir = \"../../scraper/output\"\n",
    "\n",
    "filenames = os.listdir(json_dir)\n",
    "\n",
    "# Shuffle the filenames\n",
    "random.seed(42)\n",
    "random.shuffle(filenames)"
   ]
  },
  {
   "cell_type": "code",
   "execution_count": 6,
   "metadata": {},
   "outputs": [
    {
     "name": "stdout",
     "output_type": "stream",
     "text": [
      "Error reading output.json: list indices must be integers or slices, not str\n",
      "{'functional': 255, 'unknown': 33, 'text': 69, 'decorative': 73, 'informative': 117, 'complex': 13}\n",
      "Total roles: 6\n"
     ]
    }
   ],
   "source": [
    "roles = {}\n",
    "\n",
    "for filename in os.listdir(json_dir):\n",
    "    if filename.endswith(\".json\"):\n",
    "        try:\n",
    "            # Read the JSON file\n",
    "            with open(os.path.join(json_dir, filename), \"r\") as file:\n",
    "                data = json.load(file)\n",
    "\n",
    "            # Extract the roles\n",
    "            sub_images = data[\"images\"]\n",
    "\n",
    "            for image in sub_images:\n",
    "                roles[image[\"role\"]] = roles.get(image[\"role\"], 0) + 1\n",
    "\n",
    "        except Exception as e:\n",
    "            print(f\"Error reading {filename}: {e}\")\n",
    "            continue\n",
    "\n",
    "print(roles)\n",
    "print(f\"Total roles: {len(roles)}\")"
   ]
  }
 ],
 "metadata": {
  "kernelspec": {
   "display_name": "thesis",
   "language": "python",
   "name": "python3"
  },
  "language_info": {
   "codemirror_mode": {
    "name": "ipython",
    "version": 3
   },
   "file_extension": ".py",
   "mimetype": "text/x-python",
   "name": "python",
   "nbconvert_exporter": "python",
   "pygments_lexer": "ipython3",
   "version": "3.12.6"
  }
 },
 "nbformat": 4,
 "nbformat_minor": 2
}
